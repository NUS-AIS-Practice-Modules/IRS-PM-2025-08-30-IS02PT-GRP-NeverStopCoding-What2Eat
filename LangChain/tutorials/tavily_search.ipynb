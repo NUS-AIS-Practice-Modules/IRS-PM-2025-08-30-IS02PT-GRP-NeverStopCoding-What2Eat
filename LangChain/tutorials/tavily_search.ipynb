{
  "cells": [
    {
      "cell_type": "markdown",
      "metadata": {
        "id": "view-in-github",
        "colab_type": "text"
      },
      "source": [
        "<a href=\"https://colab.research.google.com/github/ableyyyx/IRS-PM-2025-08-30-IS02PT-GRP-StopCoding-BrainBag/blob/LangChain/LangChain/tutorials/tavily_search.ipynb\" target=\"_parent\"><img src=\"https://colab.research.google.com/assets/colab-badge.svg\" alt=\"Open In Colab\"/></a>"
      ]
    },
    {
      "cell_type": "markdown",
      "id": "a6f91f20",
      "metadata": {
        "id": "a6f91f20"
      },
      "source": [
        "# Tavily Search"
      ]
    },
    {
      "cell_type": "markdown",
      "id": "5e24a889",
      "metadata": {
        "id": "5e24a889"
      },
      "source": [
        "[Tavily's Search API](https://tavily.com) is a search engine built specifically for AI agents (LLMs), delivering real-time, accurate, and factual results at speed.\n",
        "\n",
        "## Overview\n",
        "\n",
        "### Integration details\n",
        "| Class                                                         | Package                                                        | Serializable | [JS support](https://js.langchain.com/docs/integrations/tools/tavily_search) |  Package latest |\n",
        "|:--------------------------------------------------------------|:---------------------------------------------------------------| :---: | :---: | :---: |\n",
        "| [TavilySearch](https://github.com/tavily-ai/langchain-tavily) | [langchain-tavily](https://pypi.org/project/langchain-tavily/) | ✅ | ✅  |  ![PyPI - Version](https://img.shields.io/pypi/v/langchain-tavily?style=flat-square&label=%20) |\n",
        "\n",
        "### Tool features\n",
        "| [Returns artifact](/docs/how_to/tool_artifacts/) | Native async |                       Return data                        | Pricing |\n",
        "| :---: | :---: |:--------------------------------------------------------:| :---: |\n",
        "| ❌ | ✅ | title, URL, content snippet, raw_content, answer, images | 1,000 free searches / month |\n",
        "\n",
        "\n",
        "## Setup\n",
        "\n",
        "The integration lives in the `langchain-tavily` package."
      ]
    },
    {
      "cell_type": "code",
      "execution_count": 1,
      "id": "5536649f-e73d-42f2-8d57-80b7a790b7eb",
      "metadata": {
        "id": "5536649f-e73d-42f2-8d57-80b7a790b7eb"
      },
      "outputs": [],
      "source": [
        "%pip install -qU langchain-tavily"
      ]
    },
    {
      "cell_type": "markdown",
      "id": "b15e9266",
      "metadata": {
        "id": "b15e9266"
      },
      "source": [
        "### Credentials\n",
        "\n",
        "We also need to set our Tavily API key. You can get an API key by visiting [this site](https://app.tavily.com/sign-in) and creating an account."
      ]
    },
    {
      "cell_type": "code",
      "execution_count": 2,
      "id": "e0b178a2-8816-40ca-b57c-ccdd86dde9c9",
      "metadata": {
        "ExecuteTime": {
          "end_time": "2025-03-19T16:43:32.810957Z",
          "start_time": "2025-03-19T16:43:15.570Z"
        },
        "id": "e0b178a2-8816-40ca-b57c-ccdd86dde9c9",
        "outputId": "9e1278e9-8c26-47f8-9bff-ae2f037b54c8",
        "colab": {
          "base_uri": "https://localhost:8080/"
        }
      },
      "outputs": [
        {
          "name": "stdout",
          "output_type": "stream",
          "text": [
            "Tavily API key:\n",
            "··········\n"
          ]
        }
      ],
      "source": [
        "import getpass\n",
        "import os\n",
        "\n",
        "if not os.environ.get(\"TAVILY_API_KEY\"):\n",
        "    os.environ[\"TAVILY_API_KEY\"] = getpass.getpass(\"Tavily API key:\\n\")"
      ]
    },
    {
      "cell_type": "markdown",
      "id": "72461be913bfaf2b",
      "metadata": {
        "id": "72461be913bfaf2b"
      },
      "source": [
        "## Instantiation\n",
        "\n",
        "Here we show how to instantiate an instance of the Tavily search tool. The tool accepts various parameters to customize the search. After instantiation we invoke the tool with a simple query. This tool allows you to complete search queries using Tavily's Search API endpoint.\n",
        "\n",
        "Instantiation\n",
        "The tool accepts various parameters during instantiation:\n",
        "\n",
        "- `max_results` (optional, int): Maximum number of search results to return. Default is 5.\n",
        "- `topic` (optional, str): Category of the search. Can be `'general'`, `'news'`, or `'finance'`. Default is `'general'`.\n",
        "- `include_answer` (optional, bool): Include an answer to original query in results. Default is False.\n",
        "- `include_raw_content` (optional, bool): Include cleaned and parsed HTML of each search result. Default is False.\n",
        "- `include_images` (optional, bool): Include a list of query related images in the response. Default is False.\n",
        "- `include_image_descriptions` (optional, bool): Include descriptive text for each image. Default is False.\n",
        "- `search_depth` (optional, str): Depth of the search, either `'basic'` or `'advanced'`. Default is `'basic'`.\n",
        "- `time_range` (optional, str): The time range back from the current date to filter results - `'day'`, `'week'`, `'month'`, or `'year'`. Default is None.\n",
        "- `include_domains` (optional, List[str]): List of domains to specifically include. Default is None.\n",
        "- `exclude_domains` (optional, List[str]): List of domains to specifically exclude. Default is None.\n",
        "\n",
        "For a comprehensive overview of the available parameters, refer to the [Tavily Search API documentation](https://docs.tavily.com/documentation/api-reference/endpoint/search)"
      ]
    },
    {
      "cell_type": "code",
      "execution_count": 3,
      "id": "dc382e5426394836",
      "metadata": {
        "id": "dc382e5426394836"
      },
      "outputs": [],
      "source": [
        "from langchain_tavily import TavilySearch\n",
        "\n",
        "tool = TavilySearch(\n",
        "    max_results=5,\n",
        "    topic=\"general\",\n",
        "    # include_answer=False,\n",
        "    # include_raw_content=False,\n",
        "    # include_images=False,\n",
        "    # include_image_descriptions=False,\n",
        "    # search_depth=\"basic\",\n",
        "    # time_range=\"day\",\n",
        "    # include_domains=None,\n",
        "    # exclude_domains=None\n",
        ")"
      ]
    },
    {
      "cell_type": "markdown",
      "id": "f997d2733b63f655",
      "metadata": {
        "id": "f997d2733b63f655"
      },
      "source": [
        "## Invocation\n",
        "\n",
        "### [Invoke directly with args](/docs/concepts/tools)\n",
        "\n",
        "The Tavily search tool accepts the following arguments during invocation:\n",
        "- `query` (required): A natural language search query\n",
        "- The following arguments can also be set during invocation : `include_images`, `search_depth` , `time_range`, `include_domains`, `exclude_domains`, `include_images`\n",
        "- For reliability and performance reasons, certain parameters that affect response size cannot be modified during invocation: `include_answer` and `include_raw_content`. These limitations prevent unexpected context window issues and ensure consistent results.\n",
        "\n",
        ":::note\n",
        "\n",
        "The optional arguments are available for agents to dynamically set, if you set an argument during instantiation and then invoke the tool with a different value, the tool will use the value you passed during invocation.\n",
        "\n",
        ":::"
      ]
    },
    {
      "cell_type": "code",
      "execution_count": 4,
      "id": "5e75399230ab9fc1",
      "metadata": {
        "id": "5e75399230ab9fc1",
        "outputId": "6e6f40ae-4d1d-475f-f0b1-68737b824859",
        "colab": {
          "base_uri": "https://localhost:8080/"
        }
      },
      "outputs": [
        {
          "output_type": "execute_result",
          "data": {
            "text/plain": [
              "{'query': 'What happened at the last wimbledon',\n",
              " 'follow_up_questions': None,\n",
              " 'answer': None,\n",
              " 'images': [],\n",
              " 'results': [{'url': 'https://www.youtube.com/watch?v=rKeqOS90-jU',\n",
              "   'title': 'Jannik Sinner | Championship Winning Moment | Wimbledon 2025',\n",
              "   'content': \"The moment he won Wimbledon | Jannik Sinner | Championship Winning Moment | Wimbledon 2025\\nWimbledon\\n2470000 subscribers\\n17321 likes\\n1100809 views\\n13 Jul 2025\\nWatch the Championship winning moment as Italy's Jannik Sinner overcomes Spain's Carlos Alcaraz on Centre Court in the final of Wimbledon 2025.\\n\\n#Wimbledon #Tennis #Moment #Wimbledon2025 #TheresOnlyOneWimbledon\\n\\nSUBSCRIBE to keep up with all The Championships action and news! \\n\\nJoin myWimbledon for a personalised Wimbledon experience: http://wimbledon.com/mywimbledon\\n\\nTo follow all of the action as it happens go to: https://www.wimbledon.com/en_GB/scores/index.html\\n\\nTo license Wimbledon footage, visit: https://bit.ly/3fy0RbA\\n\\n\",\n",
              "   'score': 0.370522,\n",
              "   'raw_content': None},\n",
              "  {'url': 'https://www.olympics.com/en/news/tennis-wimbledon-2025-mens-singles-final-live-updates',\n",
              "   'title': \"Wimbledon 2025 men's singles final: World No.1 Jannik Sinner ...\",\n",
              "   'content': \"# Wimbledon 2025 men's singles final: World No.1 Jannik Sinner defeats defending champion Carlos Alcaraz - as it happened Jannik Sinner is the king of grass as he defeated world No.2 Carlos Alcaraz in the men's singles final of the Championships 2025 - relive all the action as it happened. ## Wimbledon 2025 men's singles final - Jannik Sinner overcomes Carlos Alcaraz to claim first Wimbledon championship ## Wimbledon 2025 men's singles final - Jannik Sinner takes the lead against Carlos Alcaraz ## Wimbledon 2025 men's singles final - world No.1 Jannik Sinner claims second set against world No.2 Carlos Alcaraz * Wimbledon 2025 men's singles final: Jannik Sinner and Carlos Alcaraz renew rivalry\",\n",
              "   'score': 0.3623603,\n",
              "   'raw_content': None},\n",
              "  {'url': 'https://www.usatoday.com/story/sports/tennis/wimb/2025/07/13/wimbledon-mens-final-results-highlights-alcaraz-sinner/84691902007/',\n",
              "   'title': \"Wimbledon men's final live result: Jannik Sinner tops Carlos Alcaraz\",\n",
              "   'content': \"Jul 13, 2025·Jannik Sinner denied No. 2 Carlos Alcaraz a three-peat at Wimbledon, winning the latest edition of tennis' best rivalry in four sets.\",\n",
              "   'score': 0.35608885,\n",
              "   'raw_content': None},\n",
              "  {'url': 'https://www.youtube.com/watch?v=L48CWEqGg2A',\n",
              "   'title': 'Djokovic dethroned in Wimbledon in straight sets | 7NEWS - YouTube',\n",
              "   'content': \"Djokovic dethroned in Wimbledon in straight sets | 7NEWS\\n7NEWS Australia\\n2000000 subscribers\\n26 likes\\n5038 views\\n12 Jul 2025\\nSinner's elimination of Djokovic sets up a mouth-watering final against Alcaraz. Subscribe and set 🔔 » https://7news.link/YTSubscribe | \\n\\nFor the latest Australian news and breaking news alerts, connect with 7NEWS online:\\nVisit » https://7news.com.au\\n7NEWS Podcast » http://smarturl.it/7NewsDaily\\nFacebook » https://www.facebook.com/7NewsAustralia\\nTwitter » https://twitter.com/7NewsAustralia\\nInstagram » https://www.instagram.com/7newsaustralia/ \\n\\n7NEWS combines the trusted and powerful news brands including Sunrise, The Morning Show, The Latest, and 7NEWS.com.au, delivering unique, engaging and continuous coverage on the issues that matter most to Australians. Watch 7 News Australia full broadcasts and full episodes nightly at 6pm and weekdays at 12:00pm and 4pm on Channel 7 and 7plus.\\n\\n#BREAKINGNEWS #7NEWS\\n\\n\",\n",
              "   'score': 0.320407,\n",
              "   'raw_content': None},\n",
              "  {'url': 'https://www.espn.com/tennis/story/_/id/45718633/hopefully-not-my-last-match-wimbledon',\n",
              "   'title': \"Novak Djokovic: 'Hopefully' not my last match at Wimbledon - ESPN\",\n",
              "   'content': 'Djokovic, sluggish at times, wins in 4 at US Open Djokovic, a 24-time major champion from Serbia, had hinted at his impending retirement following his French Open loss last month in the same round, also to Sinner, when he said it could have been \"the last match ever I played here.\" Djokovic added that he would consult with his team and his family in the near future to determine how best to proceed with his schedule \"and where I want to peak and how I want to train.\" He had previously said he planned to play in the US Open, which begins Aug. 24 in New York. Considered among the best to ever play the sport, Djokovic tied Margaret Court\\'s long-standing record for the most major singles titles in history at the US Open in 2023.',\n",
              "   'score': 0.2913744,\n",
              "   'raw_content': None}],\n",
              " 'response_time': 1.61,\n",
              " 'request_id': 'a620a44d-db33-4546-9ccb-517d110e5b05'}"
            ]
          },
          "metadata": {},
          "execution_count": 4
        }
      ],
      "source": [
        "tool.invoke({\"query\": \"What happened at the last wimbledon\"})"
      ]
    },
    {
      "cell_type": "markdown",
      "id": "d6e73897",
      "metadata": {
        "id": "d6e73897"
      },
      "source": [
        "### [Invoke with ToolCall](/docs/concepts/tools)\n",
        "\n",
        "We can also invoke the tool with a model-generated `ToolCall`, in which case a `ToolMessage` will be returned:"
      ]
    },
    {
      "cell_type": "code",
      "execution_count": 5,
      "id": "f90e33a7",
      "metadata": {
        "id": "f90e33a7",
        "outputId": "aa1b1cc9-7318-425a-e3b2-78b37a0cc747",
        "colab": {
          "base_uri": "https://localhost:8080/"
        }
      },
      "outputs": [
        {
          "output_type": "stream",
          "name": "stdout",
          "text": [
            "{\"query\": \"euro 2024 host nation\", \"follow_up_questions\": null, \"answer\": null, \"images\": [], \"results\": [{\"url\": \"https://www.reuters.com/sports/soccer/euro-2024-teams-insights-group-stage-schedule-2024-06-12/\", \"title\": \"Euro 2024: teams insights and group stage schedule - Reuters\", \"content\": \"Jun 14, 2024·Euro 2024 is set to begin in Germany on June 14 at 1900 GMT with the host nation Germany \n"
          ]
        }
      ],
      "source": [
        "# This is usually generated by a model, but we'll create a tool call directly for demo purposes.\n",
        "model_generated_tool_call = {\n",
        "    \"args\": {\"query\": \"euro 2024 host nation\"},\n",
        "    \"id\": \"1\",\n",
        "    \"name\": \"tavily\",\n",
        "    \"type\": \"tool_call\",\n",
        "}\n",
        "tool_msg = tool.invoke(model_generated_tool_call)\n",
        "\n",
        "# The content is a JSON string of results\n",
        "print(tool_msg.content[:400])"
      ]
    },
    {
      "cell_type": "markdown",
      "id": "659f9fbd-6fcf-445f-aa8c-72d8e60154bd",
      "metadata": {
        "id": "659f9fbd-6fcf-445f-aa8c-72d8e60154bd"
      },
      "source": [
        "## Use within an agent\n",
        "\n",
        "We can use our tools directly with an agent executor by binding the tool to the agent. This gives the agent the ability to dynamically set the available arguments to the Tavily search tool.\n",
        "\n",
        "In the below example when we ask the agent to find \"What nation hosted the Euro 2024? Include only wikipedia sources.\" the agent will dynamically set the argments and invoke Tavily search tool : Invoking `tavily_search` with `{'query': 'Euro 2024 host nation', 'include_domains': ['wikipedia.org']`\n",
        "\n",
        "import ChatModelTabs from \"@theme/ChatModelTabs\";\n",
        "\n",
        "<ChatModelTabs customVarName=\"llm\" />\n"
      ]
    },
    {
      "cell_type": "code",
      "execution_count": null,
      "id": "b14d41f2",
      "metadata": {
        "id": "b14d41f2"
      },
      "outputs": [],
      "source": [
        "if not os.environ.get(\"OPENAI_API_KEY\"):\n",
        "    os.environ[\"OPENAI_API_KEY\"] = getpass.getpass(\"OPENAI_API_KEY:\\n\")"
      ]
    },
    {
      "cell_type": "code",
      "execution_count": null,
      "id": "af3123ad-7a02-40e5-b58e-7d56e23e5830",
      "metadata": {
        "id": "af3123ad-7a02-40e5-b58e-7d56e23e5830"
      },
      "outputs": [],
      "source": [
        "# | output: false\n",
        "# | echo: false\n",
        "\n",
        "# !pip install -qU langchain langchain-openai\n",
        "from langchain.chat_models import init_chat_model\n",
        "\n",
        "llm = init_chat_model(model=\"gpt-4o\", model_provider=\"openai\", temperature=0)"
      ]
    },
    {
      "cell_type": "markdown",
      "id": "1020a506-473b-4e6a-a563-7aaf92c4d183",
      "metadata": {
        "id": "1020a506-473b-4e6a-a563-7aaf92c4d183"
      },
      "source": [
        "We will need to install `langgraph`:"
      ]
    },
    {
      "cell_type": "code",
      "execution_count": null,
      "id": "53ddaebb-dcd0-4e84-89c2-e9a85085f16b",
      "metadata": {
        "id": "53ddaebb-dcd0-4e84-89c2-e9a85085f16b"
      },
      "outputs": [],
      "source": [
        "%pip install -qU langgraph"
      ]
    },
    {
      "cell_type": "code",
      "execution_count": null,
      "id": "fdbf35b5-3aaf-4947-9ec6-48c21533fb95",
      "metadata": {
        "id": "fdbf35b5-3aaf-4947-9ec6-48c21533fb95",
        "outputId": "8fef0353-99f4-4993-c5e6-18e1109a8d6f"
      },
      "outputs": [
        {
          "name": "stdout",
          "output_type": "stream",
          "text": [
            "================================\u001b[1m Human Message \u001b[0m=================================\n",
            "\n",
            "What nation hosted the Euro 2024? Include only wikipedia sources.\n",
            "==================================\u001b[1m Ai Message \u001b[0m==================================\n",
            "Tool Calls:\n",
            "  tavily_search (call_yxmR4K2uadsQ8LKoyi8JyoLD)\n",
            " Call ID: call_yxmR4K2uadsQ8LKoyi8JyoLD\n",
            "  Args:\n",
            "    query: Euro 2024 host nation\n",
            "    include_domains: ['wikipedia.org']\n",
            "=================================\u001b[1m Tool Message \u001b[0m=================================\n",
            "Name: tavily_search\n",
            "\n",
            "{\"query\": \"Euro 2024 host nation\", \"follow_up_questions\": null, \"answer\": null, \"images\": [], \"results\": [{\"title\": \"UEFA Euro 2024 - Wikipedia\", \"url\": \"https://en.wikipedia.org/wiki/UEFA_Euro_2024\", \"content\": \"Tournament details Host country Germany Dates 14 June – 14 July Teams 24 Venue(s) 10 (in 10 host cities) Final positions Champions Spain (4th title) Runners-up England Tournament statistics Matches played 51 Goals scored 117 (2.29 per match) Attendance 2,681,288 (52,574 per match) Top scorer(s) Harry Kane Georges Mikautadze Jamal Musiala Cody Gakpo Ivan Schranz Dani Olmo (3 goals each) Best player(s) Rodri Best young player Lamine Yamal ← 2020 2028 → The 2024 UEFA European Football Championship, commonly referred to as UEFA Euro 2024 (stylised as UEFA EURO 2024) or simply Euro 2024, was the 17th UEFA European Championship, the quadrennial international football championship organised by UEFA for the European men's national teams of their member associations. Germany hosted the tournament, which took place from 14 June to 14 July 2024. The tournament involved 24 teams, with Georgia making their European Championship debut. [4] Host nation Germany were eliminated by Spain in the quarter-finals; Spain went on to win the tournament for a record fourth time after defeating England 2–1 in the final.\", \"score\": 0.9104262, \"raw_content\": null}, {\"title\": \"UEFA Euro 2024 - Simple English Wikipedia, the free encyclopedia\", \"url\": \"https://simple.wikipedia.org/wiki/UEFA_Euro_2024\", \"content\": \"The 2024 UEFA European Football Championship, also known as UEFA Euro 2024 or simply Euro 2024, was the 17th edition of the UEFA European Championship. Germany was hosting the tournament. ... The UEFA Executive Committee voted for the host in a secret ballot, with only a simple majority (more than half of the valid votes) required to determine\", \"score\": 0.81418616, \"raw_content\": null}, {\"title\": \"Championnat d'Europe de football 2024 — Wikipédia\", \"url\": \"https://fr.wikipedia.org/wiki/Championnat_d'Europe_de_football_2024\", \"content\": \"Le Championnat d'Europe de l'UEFA de football 2024 est la 17 e édition du Championnat d'Europe de football, communément abrégé en Euro 2024, compétition organisée par l'UEFA et rassemblant les meilleures équipes nationales masculines européennes. L'Allemagne est désignée pays organisateur de la compétition le 27 septembre 2018. C'est la troisième fois que des matches du Championnat\", \"score\": 0.8055255, \"raw_content\": null}, {\"title\": \"UEFA Euro 2024 bids - Wikipedia\", \"url\": \"https://en.wikipedia.org/wiki/UEFA_Euro_2024_bids\", \"content\": \"The bidding process of UEFA Euro 2024 ended on 27 September 2018 in Nyon, Switzerland, when Germany was announced to be the host. [1] Two bids came before the deadline, 3 March 2017, which were Germany and Turkey as single bids. ... Press agencies revealed on 24 October 2013, that the European football governing body UEFA would have decided on\", \"score\": 0.7882741, \"raw_content\": null}, {\"title\": \"2024 UEFA European Under-19 Championship - Wikipedia\", \"url\": \"https://en.wikipedia.org/wiki/2024_UEFA_European_Under-19_Championship\", \"content\": \"The 2024 UEFA European Under-19 Championship (also known as UEFA Under-19 Euro 2024) was the 21st edition of the UEFA European Under-19 Championship (71st edition if the Under-18 and Junior eras are included), the annual international youth football championship organised by UEFA for the men's under-19 national teams of Europe. Northern Ireland hosted the tournament from 15 to 28 July 2024.\", \"score\": 0.7783298, \"raw_content\": null}], \"response_time\": 1.67}\n",
            "==================================\u001b[1m Ai Message \u001b[0m==================================\n",
            "\n",
            "The nation that hosted Euro 2024 was Germany. You can find more information on the [Wikipedia page for UEFA Euro 2024](https://en.wikipedia.org/wiki/UEFA_Euro_2024).\n"
          ]
        }
      ],
      "source": [
        "from langchain_tavily import TavilySearch\n",
        "from langgraph.prebuilt import create_react_agent\n",
        "\n",
        "# Initialize Tavily Search Tool\n",
        "tavily_search_tool = TavilySearch(\n",
        "    max_results=5,\n",
        "    topic=\"general\",\n",
        ")\n",
        "\n",
        "agent = create_react_agent(llm, [tavily_search_tool])\n",
        "\n",
        "user_input = \"What nation hosted the Euro 2024? Include only wikipedia sources.\"\n",
        "\n",
        "for step in agent.stream(\n",
        "    {\"messages\": user_input},\n",
        "    stream_mode=\"values\",\n",
        "):\n",
        "    step[\"messages\"][-1].pretty_print()"
      ]
    },
    {
      "cell_type": "markdown",
      "id": "4ac8146c",
      "metadata": {
        "id": "4ac8146c"
      },
      "source": [
        "## API reference\n",
        "\n",
        "For detailed documentation of all Tavily Search API features and configurations head to the [API reference](https://docs.tavily.com/documentation/api-reference/endpoint/search)."
      ]
    },
    {
      "cell_type": "markdown",
      "id": "589ff839",
      "metadata": {
        "id": "589ff839"
      },
      "source": []
    }
  ],
  "metadata": {
    "kernelspec": {
      "display_name": "Python 3 (ipykernel)",
      "language": "python",
      "name": "python3"
    },
    "language_info": {
      "codemirror_mode": {
        "name": "ipython",
        "version": 3
      },
      "file_extension": ".py",
      "mimetype": "text/x-python",
      "name": "python",
      "nbconvert_exporter": "python",
      "pygments_lexer": "ipython3",
      "version": "3.10.4"
    },
    "colab": {
      "provenance": [],
      "include_colab_link": true
    }
  },
  "nbformat": 4,
  "nbformat_minor": 5
}