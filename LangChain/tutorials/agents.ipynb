{
  "cells": [
    {
      "cell_type": "markdown",
      "metadata": {
        "id": "view-in-github",
        "colab_type": "text"
      },
      "source": [
        "<a href=\"https://colab.research.google.com/github/ableyyyx/IRS-PM-2025-08-30-IS02PT-GRP-StopCoding-BrainBag/blob/LangChain/LangChain/tutorials/agents.ipynb\" target=\"_parent\"><img src=\"https://colab.research.google.com/assets/colab-badge.svg\" alt=\"Open In Colab\"/></a>"
      ]
    },
    {
      "cell_type": "raw",
      "id": "17546ebb",
      "metadata": {
        "vscode": {
          "languageId": "raw"
        },
        "id": "17546ebb"
      },
      "source": [
        "---\n",
        "keywords: [agent, agents]\n",
        "---"
      ]
    },
    {
      "cell_type": "markdown",
      "id": "1df78a71",
      "metadata": {
        "id": "1df78a71"
      },
      "source": [
        "# Build an Agent\n",
        "\n",
        "LangChain supports the creation of [agents](/docs/concepts/agents), or systems that use [LLMs](/docs/concepts/chat_models) as reasoning engines to determine which actions to take and the inputs necessary to perform the action.\n",
        "After executing actions, the results can be fed back into the LLM to determine whether more actions are needed, or whether it is okay to finish. This is often achieved via [tool-calling](/docs/concepts/tool_calling).\n",
        "\n",
        "In this tutorial we will build an agent that can interact with a search engine. You will be able to ask this agent questions, watch it call the search tool, and have conversations with it.\n",
        "\n",
        "## End-to-end agent\n",
        "\n",
        "The code snippet below represents a fully functional agent that uses an LLM to decide which tools to use. It is equipped with a generic search tool. It has conversational memory - meaning that it can be used as a multi-turn chatbot.\n",
        "\n",
        "In the rest of the guide, we will walk through the individual components and what each part does - but if you want to just grab some code and get started, feel free to use this!"
      ]
    },
    {
      "cell_type": "code",
      "execution_count": 1,
      "id": "86d9386b-442f-4cd6-a78f-57c88249d3f0",
      "metadata": {
        "id": "86d9386b-442f-4cd6-a78f-57c88249d3f0",
        "outputId": "b05dea1d-b31d-4796-db19-6a1c0252735e",
        "colab": {
          "base_uri": "https://localhost:8080/",
          "height": 395
        }
      },
      "outputs": [
        {
          "output_type": "error",
          "ename": "ModuleNotFoundError",
          "evalue": "No module named 'langchain_tavily'",
          "traceback": [
            "\u001b[0;31m---------------------------------------------------------------------------\u001b[0m",
            "\u001b[0;31mModuleNotFoundError\u001b[0m                       Traceback (most recent call last)",
            "\u001b[0;32m/tmp/ipython-input-84664477.py\u001b[0m in \u001b[0;36m<cell line: 0>\u001b[0;34m()\u001b[0m\n\u001b[1;32m      1\u001b[0m \u001b[0;31m# Import relevant functionality\u001b[0m\u001b[0;34m\u001b[0m\u001b[0;34m\u001b[0m\u001b[0m\n\u001b[1;32m      2\u001b[0m \u001b[0;32mfrom\u001b[0m \u001b[0mlangchain\u001b[0m\u001b[0;34m.\u001b[0m\u001b[0mchat_models\u001b[0m \u001b[0;32mimport\u001b[0m \u001b[0minit_chat_model\u001b[0m\u001b[0;34m\u001b[0m\u001b[0;34m\u001b[0m\u001b[0m\n\u001b[0;32m----> 3\u001b[0;31m \u001b[0;32mfrom\u001b[0m \u001b[0mlangchain_tavily\u001b[0m \u001b[0;32mimport\u001b[0m \u001b[0mTavilySearch\u001b[0m\u001b[0;34m\u001b[0m\u001b[0;34m\u001b[0m\u001b[0m\n\u001b[0m\u001b[1;32m      4\u001b[0m \u001b[0;32mfrom\u001b[0m \u001b[0mlanggraph\u001b[0m\u001b[0;34m.\u001b[0m\u001b[0mcheckpoint\u001b[0m\u001b[0;34m.\u001b[0m\u001b[0mmemory\u001b[0m \u001b[0;32mimport\u001b[0m \u001b[0mMemorySaver\u001b[0m\u001b[0;34m\u001b[0m\u001b[0;34m\u001b[0m\u001b[0m\n\u001b[1;32m      5\u001b[0m \u001b[0;32mfrom\u001b[0m \u001b[0mlanggraph\u001b[0m\u001b[0;34m.\u001b[0m\u001b[0mprebuilt\u001b[0m \u001b[0;32mimport\u001b[0m \u001b[0mcreate_react_agent\u001b[0m\u001b[0;34m\u001b[0m\u001b[0;34m\u001b[0m\u001b[0m\n",
            "\u001b[0;31mModuleNotFoundError\u001b[0m: No module named 'langchain_tavily'",
            "",
            "\u001b[0;31m---------------------------------------------------------------------------\u001b[0;32m\nNOTE: If your import is failing due to a missing package, you can\nmanually install dependencies using either !pip or !apt.\n\nTo view examples of installing some common dependencies, click the\n\"Open Examples\" button below.\n\u001b[0;31m---------------------------------------------------------------------------\u001b[0m\n"
          ],
          "errorDetails": {
            "actions": [
              {
                "action": "open_url",
                "actionText": "Open Examples",
                "url": "/notebooks/snippets/importing_libraries.ipynb"
              }
            ]
          }
        }
      ],
      "source": [
        "# Import relevant functionality\n",
        "from langchain.chat_models import init_chat_model\n",
        "from langchain_tavily import TavilySearch\n",
        "from langgraph.checkpoint.memory import MemorySaver\n",
        "from langgraph.prebuilt import create_react_agent\n",
        "\n",
        "# Create the agent\n",
        "memory = MemorySaver()\n",
        "model = init_chat_model(\"anthropic:claude-3-5-sonnet-latest\")\n",
        "search = TavilySearch(max_results=2)\n",
        "tools = [search]\n",
        "agent_executor = create_react_agent(model, tools, checkpointer=memory)"
      ]
    },
    {
      "cell_type": "code",
      "execution_count": null,
      "id": "7ab50503-d09f-4ff4-9080-5afe297ccc38",
      "metadata": {
        "id": "7ab50503-d09f-4ff4-9080-5afe297ccc38",
        "outputId": "e275268f-47a3-4dc4-934b-881585b383d9"
      },
      "outputs": [
        {
          "name": "stdout",
          "output_type": "stream",
          "text": [
            "================================\u001b[1m Human Message \u001b[0m=================================\n",
            "\n",
            "Hi, I'm Bob and I live in SF.\n",
            "==================================\u001b[1m Ai Message \u001b[0m==================================\n",
            "\n",
            "Hello Bob! I notice you've introduced yourself and mentioned you live in SF (San Francisco), but you haven't asked a specific question or made a request that requires the use of any tools. Is there something specific you'd like to know about San Francisco or any other topic? I'd be happy to help you find information using the available search tools.\n"
          ]
        }
      ],
      "source": [
        "# Use the agent\n",
        "config = {\"configurable\": {\"thread_id\": \"abc123\"}}\n",
        "\n",
        "input_message = {\n",
        "    \"role\": \"user\",\n",
        "    \"content\": \"Hi, I'm Bob and I live in SF.\",\n",
        "}\n",
        "for step in agent_executor.stream(\n",
        "    {\"messages\": [input_message]}, config, stream_mode=\"values\"\n",
        "):\n",
        "    step[\"messages\"][-1].pretty_print()"
      ]
    },
    {
      "cell_type": "code",
      "execution_count": null,
      "id": "fcadb699-3787-4028-a5f6-e5605c8118d4",
      "metadata": {
        "id": "fcadb699-3787-4028-a5f6-e5605c8118d4",
        "outputId": "9364b8f8-90c9-4cb5-851a-26bb95e7ecbb"
      },
      "outputs": [
        {
          "name": "stdout",
          "output_type": "stream",
          "text": [
            "================================\u001b[1m Human Message \u001b[0m=================================\n",
            "\n",
            "What's the weather where I live?\n",
            "==================================\u001b[1m Ai Message \u001b[0m==================================\n",
            "\n",
            "[{'text': 'Let me search for current weather information in San Francisco.', 'type': 'text'}, {'id': 'toolu_011kSdheoJp8THURoLmeLtZo', 'input': {'query': 'current weather San Francisco CA'}, 'name': 'tavily_search', 'type': 'tool_use'}]\n",
            "Tool Calls:\n",
            "  tavily_search (toolu_011kSdheoJp8THURoLmeLtZo)\n",
            " Call ID: toolu_011kSdheoJp8THURoLmeLtZo\n",
            "  Args:\n",
            "    query: current weather San Francisco CA\n",
            "=================================\u001b[1m Tool Message \u001b[0m=================================\n",
            "Name: tavily_search\n",
            "\n",
            "{\"query\": \"current weather San Francisco CA\", \"follow_up_questions\": null, \"answer\": null, \"images\": [], \"results\": [{\"title\": \"Weather in San Francisco, CA\", \"url\": \"https://www.weatherapi.com/\", \"content\": \"{'location': {'name': 'San Francisco', 'region': 'California', 'country': 'United States of America', 'lat': 37.775, 'lon': -122.4183, 'tz_id': 'America/Los_Angeles', 'localtime_epoch': 1750168606, 'localtime': '2025-06-17 06:56'}, 'current': {'last_updated_epoch': 1750167900, 'last_updated': '2025-06-17 06:45', 'temp_c': 11.7, 'temp_f': 53.1, 'is_day': 1, 'condition': {'text': 'Fog', 'icon': '//cdn.weatherapi.com/weather/64x64/day/248.png', 'code': 1135}, 'wind_mph': 4.0, 'wind_kph': 6.5, 'wind_degree': 215, 'wind_dir': 'SW', 'pressure_mb': 1017.0, 'pressure_in': 30.02, 'precip_mm': 0.0, 'precip_in': 0.0, 'humidity': 86, 'cloud': 0, 'feelslike_c': 11.3, 'feelslike_f': 52.4, 'windchill_c': 8.7, 'windchill_f': 47.7, 'heatindex_c': 9.8, 'heatindex_f': 49.7, 'dewpoint_c': 9.6, 'dewpoint_f': 49.2, 'vis_km': 16.0, 'vis_miles': 9.0, 'uv': 0.0, 'gust_mph': 6.3, 'gust_kph': 10.2}}\", \"score\": 0.944705, \"raw_content\": null}, {\"title\": \"Weather in San Francisco in June 2025\", \"url\": \"https://world-weather.info/forecast/usa/san_francisco/june-2025/\", \"content\": \"Detailed ⚡ San Francisco Weather Forecast for June 2025 - day/night 🌡️ temperatures, precipitations - World-Weather.info. Add the current city. Search. Weather; Archive; Weather Widget °F. World; United States; California; Weather in San Francisco; ... 17 +64° +54° 18 +61° +54° 19\", \"score\": 0.86441374, \"raw_content\": null}], \"response_time\": 2.34}\n",
            "==================================\u001b[1m Ai Message \u001b[0m==================================\n",
            "\n",
            "Based on the search results, here's the current weather in San Francisco:\n",
            "- Temperature: 53.1°F (11.7°C)\n",
            "- Condition: Foggy\n",
            "- Wind: 4.0 mph from the Southwest\n",
            "- Humidity: 86%\n",
            "- Visibility: 9 miles\n",
            "\n",
            "This is quite typical weather for San Francisco, with the characteristic fog that the city is known for. Would you like to know anything else about the weather or San Francisco in general?\n"
          ]
        }
      ],
      "source": [
        "input_message = {\n",
        "    \"role\": \"user\",\n",
        "    \"content\": \"What's the weather where I live?\",\n",
        "}\n",
        "\n",
        "for step in agent_executor.stream(\n",
        "    {\"messages\": [input_message]}, config, stream_mode=\"values\"\n",
        "):\n",
        "    step[\"messages\"][-1].pretty_print()"
      ]
    },
    {
      "cell_type": "markdown",
      "id": "f4c03f40-1328-412d-8a48-1db0cd481b77",
      "metadata": {
        "id": "f4c03f40-1328-412d-8a48-1db0cd481b77"
      },
      "source": [
        "## Setup\n",
        "\n",
        "### Jupyter Notebook\n",
        "\n",
        "This guide (and most of the other guides in the documentation) uses [Jupyter notebooks](https://jupyter.org/) and assumes the reader is as well. Jupyter notebooks are perfect interactive environments for learning how to work with LLM systems because oftentimes things can go wrong (unexpected output, API down, etc), and observing these cases is a great way to better understand building with LLMs.\n",
        "\n",
        "This and other tutorials are perhaps most conveniently run in a Jupyter notebook. See [here](https://jupyter.org/install) for instructions on how to install.\n",
        "\n",
        "### Installation\n",
        "\n",
        "To install LangChain run:"
      ]
    },
    {
      "cell_type": "code",
      "execution_count": 2,
      "id": "60bb3eb1",
      "metadata": {
        "id": "60bb3eb1",
        "outputId": "efd42c7a-9ce8-4021-dbbe-a84c249bca75",
        "colab": {
          "base_uri": "https://localhost:8080/"
        }
      },
      "outputs": [
        {
          "output_type": "stream",
          "name": "stdout",
          "text": [
            "Collecting langgraph\n",
            "  Downloading langgraph-0.6.7-py3-none-any.whl.metadata (6.8 kB)\n",
            "Collecting langchain-tavily\n",
            "  Downloading langchain_tavily-0.2.11-py3-none-any.whl.metadata (22 kB)\n",
            "Collecting langgraph-checkpoint-sqlite\n",
            "  Downloading langgraph_checkpoint_sqlite-2.0.11-py3-none-any.whl.metadata (2.6 kB)\n",
            "Requirement already satisfied: langchain-core>=0.1 in /usr/local/lib/python3.12/dist-packages (from langgraph) (0.3.75)\n",
            "Collecting langgraph-checkpoint<3.0.0,>=2.1.0 (from langgraph)\n",
            "  Downloading langgraph_checkpoint-2.1.1-py3-none-any.whl.metadata (4.2 kB)\n",
            "Collecting langgraph-prebuilt<0.7.0,>=0.6.0 (from langgraph)\n",
            "  Downloading langgraph_prebuilt-0.6.4-py3-none-any.whl.metadata (4.5 kB)\n",
            "Collecting langgraph-sdk<0.3.0,>=0.2.2 (from langgraph)\n",
            "  Downloading langgraph_sdk-0.2.6-py3-none-any.whl.metadata (1.5 kB)\n",
            "Requirement already satisfied: pydantic>=2.7.4 in /usr/local/lib/python3.12/dist-packages (from langgraph) (2.11.7)\n",
            "Requirement already satisfied: xxhash>=3.5.0 in /usr/local/lib/python3.12/dist-packages (from langgraph) (3.5.0)\n",
            "Requirement already satisfied: aiohttp<4.0.0,>=3.11.14 in /usr/local/lib/python3.12/dist-packages (from langchain-tavily) (3.12.15)\n",
            "Requirement already satisfied: langchain<0.4.0,>=0.3.20 in /usr/local/lib/python3.12/dist-packages (from langchain-tavily) (0.3.27)\n",
            "Requirement already satisfied: requests<3.0.0,>=2.32.3 in /usr/local/lib/python3.12/dist-packages (from langchain-tavily) (2.32.4)\n",
            "Collecting aiosqlite>=0.20 (from langgraph-checkpoint-sqlite)\n",
            "  Downloading aiosqlite-0.21.0-py3-none-any.whl.metadata (4.3 kB)\n",
            "Collecting sqlite-vec>=0.1.6 (from langgraph-checkpoint-sqlite)\n",
            "  Downloading sqlite_vec-0.1.6-py3-none-manylinux_2_17_x86_64.manylinux2014_x86_64.manylinux1_x86_64.whl.metadata (198 bytes)\n",
            "Requirement already satisfied: aiohappyeyeballs>=2.5.0 in /usr/local/lib/python3.12/dist-packages (from aiohttp<4.0.0,>=3.11.14->langchain-tavily) (2.6.1)\n",
            "Requirement already satisfied: aiosignal>=1.4.0 in /usr/local/lib/python3.12/dist-packages (from aiohttp<4.0.0,>=3.11.14->langchain-tavily) (1.4.0)\n",
            "Requirement already satisfied: attrs>=17.3.0 in /usr/local/lib/python3.12/dist-packages (from aiohttp<4.0.0,>=3.11.14->langchain-tavily) (25.3.0)\n",
            "Requirement already satisfied: frozenlist>=1.1.1 in /usr/local/lib/python3.12/dist-packages (from aiohttp<4.0.0,>=3.11.14->langchain-tavily) (1.7.0)\n",
            "Requirement already satisfied: multidict<7.0,>=4.5 in /usr/local/lib/python3.12/dist-packages (from aiohttp<4.0.0,>=3.11.14->langchain-tavily) (6.6.4)\n",
            "Requirement already satisfied: propcache>=0.2.0 in /usr/local/lib/python3.12/dist-packages (from aiohttp<4.0.0,>=3.11.14->langchain-tavily) (0.3.2)\n",
            "Requirement already satisfied: yarl<2.0,>=1.17.0 in /usr/local/lib/python3.12/dist-packages (from aiohttp<4.0.0,>=3.11.14->langchain-tavily) (1.20.1)\n",
            "Requirement already satisfied: typing_extensions>=4.0 in /usr/local/lib/python3.12/dist-packages (from aiosqlite>=0.20->langgraph-checkpoint-sqlite) (4.15.0)\n",
            "Requirement already satisfied: langchain-text-splitters<1.0.0,>=0.3.9 in /usr/local/lib/python3.12/dist-packages (from langchain<0.4.0,>=0.3.20->langchain-tavily) (0.3.11)\n",
            "Requirement already satisfied: langsmith>=0.1.17 in /usr/local/lib/python3.12/dist-packages (from langchain<0.4.0,>=0.3.20->langchain-tavily) (0.4.23)\n",
            "Requirement already satisfied: SQLAlchemy<3,>=1.4 in /usr/local/lib/python3.12/dist-packages (from langchain<0.4.0,>=0.3.20->langchain-tavily) (2.0.43)\n",
            "Requirement already satisfied: PyYAML>=5.3 in /usr/local/lib/python3.12/dist-packages (from langchain<0.4.0,>=0.3.20->langchain-tavily) (6.0.2)\n",
            "Requirement already satisfied: tenacity!=8.4.0,<10.0.0,>=8.1.0 in /usr/local/lib/python3.12/dist-packages (from langchain-core>=0.1->langgraph) (8.5.0)\n",
            "Requirement already satisfied: jsonpatch<2.0,>=1.33 in /usr/local/lib/python3.12/dist-packages (from langchain-core>=0.1->langgraph) (1.33)\n",
            "Requirement already satisfied: packaging>=23.2 in /usr/local/lib/python3.12/dist-packages (from langchain-core>=0.1->langgraph) (25.0)\n",
            "Collecting ormsgpack>=1.10.0 (from langgraph-checkpoint<3.0.0,>=2.1.0->langgraph)\n",
            "  Downloading ormsgpack-1.10.0-cp312-cp312-manylinux_2_17_x86_64.manylinux2014_x86_64.whl.metadata (43 kB)\n",
            "\u001b[2K     \u001b[90m━━━━━━━━━━━━━━━━━━━━━━━━━━━━━━━━━━━━━━━━\u001b[0m \u001b[32m43.7/43.7 kB\u001b[0m \u001b[31m2.4 MB/s\u001b[0m eta \u001b[36m0:00:00\u001b[0m\n",
            "\u001b[?25hRequirement already satisfied: httpx>=0.25.2 in /usr/local/lib/python3.12/dist-packages (from langgraph-sdk<0.3.0,>=0.2.2->langgraph) (0.28.1)\n",
            "Requirement already satisfied: orjson>=3.10.1 in /usr/local/lib/python3.12/dist-packages (from langgraph-sdk<0.3.0,>=0.2.2->langgraph) (3.11.3)\n",
            "Requirement already satisfied: annotated-types>=0.6.0 in /usr/local/lib/python3.12/dist-packages (from pydantic>=2.7.4->langgraph) (0.7.0)\n",
            "Requirement already satisfied: pydantic-core==2.33.2 in /usr/local/lib/python3.12/dist-packages (from pydantic>=2.7.4->langgraph) (2.33.2)\n",
            "Requirement already satisfied: typing-inspection>=0.4.0 in /usr/local/lib/python3.12/dist-packages (from pydantic>=2.7.4->langgraph) (0.4.1)\n",
            "Requirement already satisfied: charset_normalizer<4,>=2 in /usr/local/lib/python3.12/dist-packages (from requests<3.0.0,>=2.32.3->langchain-tavily) (3.4.3)\n",
            "Requirement already satisfied: idna<4,>=2.5 in /usr/local/lib/python3.12/dist-packages (from requests<3.0.0,>=2.32.3->langchain-tavily) (3.10)\n",
            "Requirement already satisfied: urllib3<3,>=1.21.1 in /usr/local/lib/python3.12/dist-packages (from requests<3.0.0,>=2.32.3->langchain-tavily) (2.5.0)\n",
            "Requirement already satisfied: certifi>=2017.4.17 in /usr/local/lib/python3.12/dist-packages (from requests<3.0.0,>=2.32.3->langchain-tavily) (2025.8.3)\n",
            "Requirement already satisfied: anyio in /usr/local/lib/python3.12/dist-packages (from httpx>=0.25.2->langgraph-sdk<0.3.0,>=0.2.2->langgraph) (4.10.0)\n",
            "Requirement already satisfied: httpcore==1.* in /usr/local/lib/python3.12/dist-packages (from httpx>=0.25.2->langgraph-sdk<0.3.0,>=0.2.2->langgraph) (1.0.9)\n",
            "Requirement already satisfied: h11>=0.16 in /usr/local/lib/python3.12/dist-packages (from httpcore==1.*->httpx>=0.25.2->langgraph-sdk<0.3.0,>=0.2.2->langgraph) (0.16.0)\n",
            "Requirement already satisfied: jsonpointer>=1.9 in /usr/local/lib/python3.12/dist-packages (from jsonpatch<2.0,>=1.33->langchain-core>=0.1->langgraph) (3.0.0)\n",
            "Requirement already satisfied: requests-toolbelt>=1.0.0 in /usr/local/lib/python3.12/dist-packages (from langsmith>=0.1.17->langchain<0.4.0,>=0.3.20->langchain-tavily) (1.0.0)\n",
            "Requirement already satisfied: zstandard>=0.23.0 in /usr/local/lib/python3.12/dist-packages (from langsmith>=0.1.17->langchain<0.4.0,>=0.3.20->langchain-tavily) (0.24.0)\n",
            "Requirement already satisfied: greenlet>=1 in /usr/local/lib/python3.12/dist-packages (from SQLAlchemy<3,>=1.4->langchain<0.4.0,>=0.3.20->langchain-tavily) (3.2.4)\n",
            "Requirement already satisfied: sniffio>=1.1 in /usr/local/lib/python3.12/dist-packages (from anyio->httpx>=0.25.2->langgraph-sdk<0.3.0,>=0.2.2->langgraph) (1.3.1)\n",
            "Downloading langgraph-0.6.7-py3-none-any.whl (153 kB)\n",
            "\u001b[2K   \u001b[90m━━━━━━━━━━━━━━━━━━━━━━━━━━━━━━━━━━━━━━━━\u001b[0m \u001b[32m153.3/153.3 kB\u001b[0m \u001b[31m11.8 MB/s\u001b[0m eta \u001b[36m0:00:00\u001b[0m\n",
            "\u001b[?25hDownloading langchain_tavily-0.2.11-py3-none-any.whl (26 kB)\n",
            "Downloading langgraph_checkpoint_sqlite-2.0.11-py3-none-any.whl (31 kB)\n",
            "Downloading aiosqlite-0.21.0-py3-none-any.whl (15 kB)\n",
            "Downloading langgraph_checkpoint-2.1.1-py3-none-any.whl (43 kB)\n",
            "\u001b[2K   \u001b[90m━━━━━━━━━━━━━━━━━━━━━━━━━━━━━━━━━━━━━━━━\u001b[0m \u001b[32m43.9/43.9 kB\u001b[0m \u001b[31m3.0 MB/s\u001b[0m eta \u001b[36m0:00:00\u001b[0m\n",
            "\u001b[?25hDownloading langgraph_prebuilt-0.6.4-py3-none-any.whl (28 kB)\n",
            "Downloading langgraph_sdk-0.2.6-py3-none-any.whl (54 kB)\n",
            "\u001b[2K   \u001b[90m━━━━━━━━━━━━━━━━━━━━━━━━━━━━━━━━━━━━━━━━\u001b[0m \u001b[32m54.6/54.6 kB\u001b[0m \u001b[31m4.2 MB/s\u001b[0m eta \u001b[36m0:00:00\u001b[0m\n",
            "\u001b[?25hDownloading sqlite_vec-0.1.6-py3-none-manylinux_2_17_x86_64.manylinux2014_x86_64.manylinux1_x86_64.whl (151 kB)\n",
            "\u001b[2K   \u001b[90m━━━━━━━━━━━━━━━━━━━━━━━━━━━━━━━━━━━━━━━━\u001b[0m \u001b[32m151.6/151.6 kB\u001b[0m \u001b[31m10.7 MB/s\u001b[0m eta \u001b[36m0:00:00\u001b[0m\n",
            "\u001b[?25hDownloading ormsgpack-1.10.0-cp312-cp312-manylinux_2_17_x86_64.manylinux2014_x86_64.whl (216 kB)\n",
            "\u001b[2K   \u001b[90m━━━━━━━━━━━━━━━━━━━━━━━━━━━━━━━━━━━━━━━━\u001b[0m \u001b[32m216.7/216.7 kB\u001b[0m \u001b[31m16.1 MB/s\u001b[0m eta \u001b[36m0:00:00\u001b[0m\n",
            "\u001b[?25hInstalling collected packages: sqlite-vec, ormsgpack, aiosqlite, langgraph-sdk, langgraph-checkpoint, langgraph-prebuilt, langgraph-checkpoint-sqlite, langgraph, langchain-tavily\n",
            "Successfully installed aiosqlite-0.21.0 langchain-tavily-0.2.11 langgraph-0.6.7 langgraph-checkpoint-2.1.1 langgraph-checkpoint-sqlite-2.0.11 langgraph-prebuilt-0.6.4 langgraph-sdk-0.2.6 ormsgpack-1.10.0 sqlite-vec-0.1.6\n"
          ]
        }
      ],
      "source": [
        "%pip install -U langgraph langchain-tavily langgraph-checkpoint-sqlite"
      ]
    },
    {
      "cell_type": "markdown",
      "id": "2ee337ae",
      "metadata": {
        "id": "2ee337ae"
      },
      "source": [
        "For more details, see our [Installation guide](/docs/how_to/installation).\n",
        "\n",
        "### LangSmith\n",
        "\n",
        "Many of the applications you build with LangChain will contain multiple steps with multiple invocations of LLM calls.\n",
        "As these applications get more and more complex, it becomes crucial to be able to inspect what exactly is going on inside your chain or agent.\n",
        "The best way to do this is with [LangSmith](https://smith.langchain.com).\n",
        "\n",
        "After you sign up at the link above, make sure to set your environment variables to start logging traces:\n",
        "\n",
        "```shell\n",
        "export LANGSMITH_TRACING=\"true\"\n",
        "export LANGSMITH_API_KEY=\"...\"\n",
        "```\n",
        "\n",
        "Or, if in a notebook, you can set them with:\n",
        "\n",
        "```python\n",
        "import getpass\n",
        "import os\n",
        "\n",
        "os.environ[\"LANGSMITH_TRACING\"] = \"true\"\n",
        "os.environ[\"LANGSMITH_API_KEY\"] = getpass.getpass()\n",
        "```\n",
        "\n",
        "### Tavily\n",
        "\n",
        "We will be using [Tavily](/docs/integrations/tools/tavily_search) (a search engine) as a tool.\n",
        "In order to use it, you will need to get and set an API key:\n",
        "\n",
        "```bash\n",
        "export TAVILY_API_KEY=\"...\"\n",
        "```\n",
        "\n",
        "Or, if in a notebook, you can set it with:\n",
        "\n",
        "```python\n",
        "import getpass\n",
        "import os\n",
        "\n",
        "os.environ[\"TAVILY_API_KEY\"] = getpass.getpass()\n",
        "```"
      ]
    },
    {
      "cell_type": "markdown",
      "id": "c335d1bf",
      "metadata": {
        "id": "c335d1bf"
      },
      "source": [
        "## Define tools\n",
        "\n",
        "We first need to create the tools we want to use. Our main tool of choice will be [Tavily](/docs/integrations/tools/tavily_search) - a search engine. We can use the dedicated [langchain-tavily](https://pypi.org/project/langchain-tavily/) [integration package](/docs/concepts/architecture/#integration-packages) to easily use Tavily search engine as tool with LangChain.\n"
      ]
    },
    {
      "cell_type": "code",
      "source": [
        "import getpass\n",
        "import os\n",
        "\n",
        "os.environ[\"LANGSMITH_TRACING\"] = \"true\"\n",
        "os.environ[\"LANGSMITH_ENDPOINT\"] = \"https://api.smith.langchain.com\"\n",
        "if not os.environ.get(\"LANGSMITH_API_KEY\"):\n",
        "  os.environ[\"LANGCHAIN_API_KEY\"] = getpass.getpass(\"Enter LangSmith API Key: \")\n",
        "os.environ[\"LANGSMITH_PROJECT\"] =\"agent\"\n",
        "\n",
        "if not os.environ.get(\"OPENAI_API_KEY\"):\n",
        "  os.environ[\"OPENAI_API_KEY\"] = getpass.getpass(\"Enter API key for OpenAI: \")\n",
        "if not os.environ.get(\"TAVILY_API_KEY\"):\n",
        "    os.environ[\"TAVILY_API_KEY\"] = getpass.getpass(\"Tavily API key:\\n\")"
      ],
      "metadata": {
        "id": "1eKCBdUCOg2V",
        "outputId": "b3cf643f-47a2-4343-9f64-66ebbd1c9990",
        "colab": {
          "base_uri": "https://localhost:8080/"
        }
      },
      "id": "1eKCBdUCOg2V",
      "execution_count": 3,
      "outputs": [
        {
          "name": "stdout",
          "output_type": "stream",
          "text": [
            "Enter LangSmith API Key: ··········\n",
            "Enter API key for OpenAI: ··········\n",
            "Tavily API key:\n",
            "··········\n"
          ]
        }
      ]
    },
    {
      "cell_type": "code",
      "execution_count": 5,
      "id": "76a02d36-6ea2-4e62-88b4-6c480dd9c04f",
      "metadata": {
        "id": "76a02d36-6ea2-4e62-88b4-6c480dd9c04f",
        "outputId": "dbe3cbe1-6c07-4046-8d0c-ade10fb8039f",
        "colab": {
          "base_uri": "https://localhost:8080/"
        }
      },
      "outputs": [
        {
          "output_type": "stream",
          "name": "stdout",
          "text": [
            "{'query': 'What is the weather in Singapore', 'follow_up_questions': None, 'answer': None, 'images': [], 'results': [{'title': 'Weather in Singapore', 'url': 'https://www.weatherapi.com/', 'content': \"{'location': {'name': 'Singapore', 'region': '', 'country': 'Singapore', 'lat': 1.293, 'lon': 103.856, 'tz_id': 'Asia/Singapore', 'localtime_epoch': 1757299833, 'localtime': '2025-09-08 10:50'}, 'current': {'last_updated_epoch': 1757299500, 'last_updated': '2025-09-08 10:45', 'temp_c': 29.3, 'temp_f': 84.7, 'is_day': 1, 'condition': {'text': 'Partly cloudy', 'icon': '//cdn.weatherapi.com/weather/64x64/day/116.png', 'code': 1003}, 'wind_mph': 12.1, 'wind_kph': 19.4, 'wind_degree': 210, 'wind_dir': 'SSW', 'pressure_mb': 1010.0, 'pressure_in': 29.83, 'precip_mm': 0.42, 'precip_in': 0.02, 'humidity': 84, 'cloud': 50, 'feelslike_c': 35.8, 'feelslike_f': 96.4, 'windchill_c': 26.1, 'windchill_f': 79.0, 'heatindex_c': 28.9, 'heatindex_f': 84.0, 'dewpoint_c': 22.7, 'dewpoint_f': 72.9, 'vis_km': 10.0, 'vis_miles': 6.0, 'uv': 1.1, 'gust_mph': 16.7, 'gust_kph': 26.9}}\", 'score': 0.7467614, 'raw_content': None}, {'url': 'https://www.ventusky.com/singapore', 'title': 'Singapore - 14-Day Forecast: Temperature, Wind & Radar - Ventusky', 'content': 'PlayPreviousNextChange dateToday, 2025/08/28Show present-day forecast8:00   | Su | Mo | Tu | We | Th | Fr | Sa | * Sa   * Su   * Mo   * Tu   The forecast beyond 7 days is included in Premium, along with other advanced features. You can still view it without Premium for now, but thanks to user support — our only income — we can keep improving Ventusky. We don’t show ads or sell personal data. The calculations take into account the terrain (elevation), but with lower resolution than in reality. The general rule is that the centres of large cities are 1 °C to 3 °C warmer than the surrounding area or natural landscapes. (Nakhon Si Thammarat)PadangsidimpuanPadangភ្នំពេញ (Nakhon Ratchasima)VinhQuy Nhơnอุดรธาน', 'score': 0.61779, 'raw_content': None}], 'response_time': 1.44, 'request_id': 'b3eeaee3-93a5-42ba-bfee-d06f2d9de68b'}\n"
          ]
        }
      ],
      "source": [
        "from langchain_tavily import TavilySearch\n",
        "\n",
        "search = TavilySearch(max_results=2)\n",
        "search_results = search.invoke(\"What is the weather in Singapore\")\n",
        "print(search_results)\n",
        "# If we want, we can create other tools.\n",
        "# Once we have all the tools we want, we can put them in a list that we will reference later.\n",
        "tools = [search]"
      ]
    },
    {
      "cell_type": "markdown",
      "id": "ecbc86d8",
      "metadata": {
        "id": "ecbc86d8"
      },
      "source": [
        ":::tip\n",
        "\n",
        "In many applications, you may want to define custom tools. LangChain supports custom\n",
        "tool creation via Python functions and other means. Refer to the\n",
        "[How to create tools](/docs/how_to/custom_tools/) guide for details.\n",
        "\n",
        ":::"
      ]
    },
    {
      "cell_type": "markdown",
      "id": "e00068b0",
      "metadata": {
        "id": "e00068b0"
      },
      "source": [
        "## Using Language Models\n",
        "\n",
        "Next, let's learn how to use a language model to call tools. LangChain supports many different language models that you can use interchangably - select the one you want to use below!\n",
        "\n",
        "import ChatModelTabs from \"@theme/ChatModelTabs\";\n",
        "\n",
        "<ChatModelTabs overrideParams={{openai: {model: \"gpt-4.1\"}}} />\n"
      ]
    },
    {
      "cell_type": "code",
      "source": [
        "pip install -qU \"langchain[openai]\""
      ],
      "metadata": {
        "id": "YFZXj0EERa11",
        "outputId": "beafd5b5-0d47-4c32-89c3-8a7c43739b65",
        "colab": {
          "base_uri": "https://localhost:8080/"
        }
      },
      "id": "YFZXj0EERa11",
      "execution_count": 7,
      "outputs": [
        {
          "output_type": "stream",
          "name": "stdout",
          "text": [
            "\u001b[?25l   \u001b[90m━━━━━━━━━━━━━━━━━━━━━━━━━━━━━━━━━━━━━━━━\u001b[0m \u001b[32m0.0/74.5 kB\u001b[0m \u001b[31m?\u001b[0m eta \u001b[36m-:--:--\u001b[0m\r\u001b[2K   \u001b[90m━━━━━━━━━━━━━━━━━━━━━━━━━━━━━━━━━━━━━━━━\u001b[0m \u001b[32m74.5/74.5 kB\u001b[0m \u001b[31m2.7 MB/s\u001b[0m eta \u001b[36m0:00:00\u001b[0m\n",
            "\u001b[?25h"
          ]
        }
      ]
    },
    {
      "cell_type": "code",
      "execution_count": 8,
      "id": "69185491",
      "metadata": {
        "id": "69185491"
      },
      "outputs": [],
      "source": [
        "# | output: false\n",
        "# | echo: false\n",
        "\n",
        "from langchain_openai import ChatOpenAI\n",
        "\n",
        "model = ChatOpenAI(model=\"gpt-4o-mini\")"
      ]
    },
    {
      "cell_type": "markdown",
      "id": "642ed8bf",
      "metadata": {
        "id": "642ed8bf"
      },
      "source": [
        "You can call the language model by passing in a list of messages. By default, the response is a `content` string."
      ]
    },
    {
      "cell_type": "code",
      "execution_count": 9,
      "id": "c96c960b",
      "metadata": {
        "id": "c96c960b",
        "outputId": "054961b0-f97b-42a4-a4ee-b0af494626b9",
        "colab": {
          "base_uri": "https://localhost:8080/",
          "height": 35
        }
      },
      "outputs": [
        {
          "output_type": "execute_result",
          "data": {
            "text/plain": [
              "'Hello! How can I assist you today?'"
            ],
            "application/vnd.google.colaboratory.intrinsic+json": {
              "type": "string"
            }
          },
          "metadata": {},
          "execution_count": 9
        }
      ],
      "source": [
        "query = \"Hi!\"\n",
        "response = model.invoke([{\"role\": \"user\", \"content\": query}])\n",
        "response.text()"
      ]
    },
    {
      "cell_type": "markdown",
      "id": "47bf8210",
      "metadata": {
        "id": "47bf8210"
      },
      "source": [
        "We can now see what it is like to enable this model to do tool calling. In order to enable that we use `.bind_tools` to give the language model knowledge of these tools"
      ]
    },
    {
      "cell_type": "code",
      "execution_count": 10,
      "id": "ba692a74",
      "metadata": {
        "id": "ba692a74"
      },
      "outputs": [],
      "source": [
        "model_with_tools = model.bind_tools(tools)"
      ]
    },
    {
      "cell_type": "markdown",
      "id": "fd920b69",
      "metadata": {
        "id": "fd920b69"
      },
      "source": [
        "We can now call the model. Let's first call it with a normal message, and see how it responds. We can look at both the `content` field as well as the `tool_calls` field."
      ]
    },
    {
      "cell_type": "code",
      "execution_count": 11,
      "id": "b6a7e925",
      "metadata": {
        "id": "b6a7e925",
        "outputId": "ffd43995-5cd8-4622-a360-5996b26210e3",
        "colab": {
          "base_uri": "https://localhost:8080/"
        }
      },
      "outputs": [
        {
          "output_type": "stream",
          "name": "stdout",
          "text": [
            "Message content: Hello! How can I assist you today?\n",
            "\n",
            "Tool calls: []\n"
          ]
        }
      ],
      "source": [
        "query = \"Hi!\"\n",
        "response = model_with_tools.invoke([{\"role\": \"user\", \"content\": query}])\n",
        "\n",
        "print(f\"Message content: {response.text()}\\n\")\n",
        "print(f\"Tool calls: {response.tool_calls}\")"
      ]
    },
    {
      "cell_type": "markdown",
      "id": "e8c81e76",
      "metadata": {
        "id": "e8c81e76"
      },
      "source": [
        "Now, let's try calling it with some input that would expect a tool to be called."
      ]
    },
    {
      "cell_type": "code",
      "execution_count": 14,
      "id": "688b465d",
      "metadata": {
        "id": "688b465d",
        "outputId": "0cc4f475-992c-4553-96fe-9d06f10e591d",
        "colab": {
          "base_uri": "https://localhost:8080/"
        }
      },
      "outputs": [
        {
          "output_type": "stream",
          "name": "stdout",
          "text": [
            "Message content: \n",
            "\n",
            "Tool calls: [{'name': 'tavily_search', 'args': {'query': 'weather in Singapore', 'topic': 'general'}, 'id': 'call_PdUCjUIvpmUewnoWIm7XhSB3', 'type': 'tool_call'}]\n"
          ]
        }
      ],
      "source": [
        "query = \"Search for the weather in Singapore\"\n",
        "response = model_with_tools.invoke([{\"role\": \"user\", \"content\": query}])\n",
        "\n",
        "print(f\"Message content: {response.text()}\\n\")\n",
        "print(f\"Tool calls: {response.tool_calls}\")"
      ]
    },
    {
      "cell_type": "markdown",
      "id": "83c4bcd3",
      "metadata": {
        "id": "83c4bcd3"
      },
      "source": [
        "We can see that there's now no text content, but there is a tool call! It wants us to call the Tavily Search tool.\n",
        "\n",
        "This isn't calling that tool yet - it's just telling us to. In order to actually call it, we'll want to create our agent."
      ]
    },
    {
      "cell_type": "markdown",
      "id": "40ccec80",
      "metadata": {
        "id": "40ccec80"
      },
      "source": [
        "## Create the agent\n",
        "\n",
        "Now that we have defined the tools and the LLM, we can create the agent. We will be using [LangGraph](/docs/concepts/architecture/#langgraph) to construct the agent.\n",
        "Currently, we are using a high level interface to construct the agent, but the nice thing about LangGraph is that this high-level interface is backed by a low-level, highly controllable API in case you want to modify the agent logic.\n"
      ]
    },
    {
      "cell_type": "markdown",
      "id": "f8014c9d",
      "metadata": {
        "id": "f8014c9d"
      },
      "source": [
        "Now, we can initialize the agent with the LLM and the tools.\n",
        "\n",
        "Note that we are passing in the `model`, not `model_with_tools`. That is because `create_react_agent` will call `.bind_tools` for us under the hood."
      ]
    },
    {
      "cell_type": "code",
      "execution_count": 15,
      "id": "89cf72b4-6046-4b47-8f27-5522d8cb8036",
      "metadata": {
        "id": "89cf72b4-6046-4b47-8f27-5522d8cb8036"
      },
      "outputs": [],
      "source": [
        "from langgraph.prebuilt import create_react_agent\n",
        "\n",
        "agent_executor = create_react_agent(model, tools)"
      ]
    },
    {
      "cell_type": "markdown",
      "id": "e4df0e06",
      "metadata": {
        "id": "e4df0e06"
      },
      "source": [
        "## Run the agent\n",
        "\n",
        "We can now run the agent with a few queries! Note that for now, these are all **stateless** queries (it won't remember previous interactions). Note that the agent will return the **final** state at the end of the interaction (which includes any inputs, we will see later on how to get only the outputs).\n",
        "\n",
        "First up, let's see how it responds when there's no need to call a tool:"
      ]
    },
    {
      "cell_type": "code",
      "execution_count": 16,
      "id": "114ba50d",
      "metadata": {
        "id": "114ba50d",
        "outputId": "8f6ac0a7-b2b8-480a-e53a-acebea488634",
        "colab": {
          "base_uri": "https://localhost:8080/"
        }
      },
      "outputs": [
        {
          "output_type": "stream",
          "name": "stdout",
          "text": [
            "================================\u001b[1m Human Message \u001b[0m=================================\n",
            "\n",
            "Hi!\n",
            "==================================\u001b[1m Ai Message \u001b[0m==================================\n",
            "\n",
            "Hello! How can I assist you today?\n"
          ]
        }
      ],
      "source": [
        "input_message = {\"role\": \"user\", \"content\": \"Hi!\"}\n",
        "response = agent_executor.invoke({\"messages\": [input_message]})\n",
        "\n",
        "for message in response[\"messages\"]:\n",
        "    message.pretty_print()"
      ]
    },
    {
      "cell_type": "markdown",
      "id": "71493a42",
      "metadata": {
        "id": "71493a42"
      },
      "source": [
        "In order to see exactly what is happening under the hood (and to make sure it's not calling a tool) we can take a look at the [LangSmith trace](https://smith.langchain.com/public/28311faa-e135-4d6a-ab6b-caecf6482aaa/r)\n",
        "\n",
        "Let's now try it out on an example where it should be invoking the tool"
      ]
    },
    {
      "cell_type": "code",
      "execution_count": 17,
      "id": "77c2f769",
      "metadata": {
        "id": "77c2f769",
        "outputId": "0d984ffb-d033-49a9-ddec-fee0151a96fc",
        "colab": {
          "base_uri": "https://localhost:8080/"
        }
      },
      "outputs": [
        {
          "output_type": "stream",
          "name": "stdout",
          "text": [
            "================================\u001b[1m Human Message \u001b[0m=================================\n",
            "\n",
            "Search for the weather in Singapore\n",
            "==================================\u001b[1m Ai Message \u001b[0m==================================\n",
            "Tool Calls:\n",
            "  tavily_search (call_cSg3kq3oxXfULMWNZBS8aK3N)\n",
            " Call ID: call_cSg3kq3oxXfULMWNZBS8aK3N\n",
            "  Args:\n",
            "    query: weather in Singapore\n",
            "    topic: general\n",
            "=================================\u001b[1m Tool Message \u001b[0m=================================\n",
            "Name: tavily_search\n",
            "\n",
            "{\"query\": \"weather in Singapore\", \"follow_up_questions\": null, \"answer\": null, \"images\": [], \"results\": [{\"title\": \"Weather in Singapore\", \"url\": \"https://www.weatherapi.com/\", \"content\": \"{'location': {'name': 'Singapore', 'region': '', 'country': 'Singapore', 'lat': 1.293, 'lon': 103.856, 'tz_id': 'Asia/Singapore', 'localtime_epoch': 1757301220, 'localtime': '2025-09-08 11:13'}, 'current': {'last_updated_epoch': 1757300400, 'last_updated': '2025-09-08 11:00', 'temp_c': 29.1, 'temp_f': 84.4, 'is_day': 1, 'condition': {'text': 'Partly cloudy', 'icon': '//cdn.weatherapi.com/weather/64x64/day/116.png', 'code': 1003}, 'wind_mph': 10.7, 'wind_kph': 17.3, 'wind_degree': 219, 'wind_dir': 'SW', 'pressure_mb': 1010.0, 'pressure_in': 29.83, 'precip_mm': 0.14, 'precip_in': 0.01, 'humidity': 84, 'cloud': 50, 'feelslike_c': 35.0, 'feelslike_f': 95.0, 'windchill_c': 26.1, 'windchill_f': 78.9, 'heatindex_c': 28.7, 'heatindex_f': 83.7, 'dewpoint_c': 22.5, 'dewpoint_f': 72.4, 'vis_km': 10.0, 'vis_miles': 6.0, 'uv': 1.1, 'gust_mph': 14.9, 'gust_kph': 24.0}}\", \"score\": 0.9844925, \"raw_content\": null}, {\"url\": \"https://world-weather.info/forecast/singapore/singapore/09-august/\", \"title\": \"Weather in Singapore, August 9\", \"content\": \"Detailed ⚡ Weather Forecast for August 9 in Singapore, , Singapore - 🌡️ temperature ... August 09, 2025. Night. +82°. 5.4. 29.9. 84%. Morning. +81°. 4.3. 29.9. 90\", \"score\": 0.9053309, \"raw_content\": null}], \"response_time\": 1.34, \"request_id\": \"aee29929-e0f1-41f3-a995-8d9e7908a885\"}\n",
            "==================================\u001b[1m Ai Message \u001b[0m==================================\n",
            "\n",
            "The current weather in Singapore is as follows:\n",
            "\n",
            "- **Temperature:** 29.1°C (84.4°F)\n",
            "- **Condition:** Partly cloudy\n",
            "- **Wind Speed:** 10.7 mph (17.3 kph)\n",
            "- **Humidity:** 84%\n",
            "- **Visibility:** 10 km\n",
            "- **Feels Like:** 35.0°C (95.0°F)\n",
            "\n",
            "For more details, you can check the weather forecast [here](https://www.weatherapi.com/).\n"
          ]
        }
      ],
      "source": [
        "input_message = {\"role\": \"user\", \"content\": \"Search for the weather in Singapore\"}\n",
        "response = agent_executor.invoke({\"messages\": [input_message]})\n",
        "\n",
        "for message in response[\"messages\"]:\n",
        "    message.pretty_print()"
      ]
    },
    {
      "cell_type": "markdown",
      "id": "c174f838",
      "metadata": {
        "id": "c174f838"
      },
      "source": [
        "We can check out the [LangSmith trace](https://smith.langchain.com/public/f520839d-cd4d-4495-8764-e32b548e235d/r) to make sure it's calling the search tool effectively."
      ]
    },
    {
      "cell_type": "markdown",
      "id": "8f6ca7e4",
      "metadata": {
        "id": "8f6ca7e4"
      },
      "source": [
        "## Streaming Messages\n",
        "\n",
        "We've seen how the agent can be called with `.invoke` to get  a final response. If the agent executes multiple steps, this may take a while. To show intermediate progress, we can stream back messages as they occur."
      ]
    },
    {
      "cell_type": "code",
      "execution_count": 18,
      "id": "bd93812b-2350-4d7f-9643-34c753503754",
      "metadata": {
        "id": "bd93812b-2350-4d7f-9643-34c753503754",
        "outputId": "8ca86ccd-446f-4fb6-dad2-a5a4d1ab41f4",
        "colab": {
          "base_uri": "https://localhost:8080/"
        }
      },
      "outputs": [
        {
          "output_type": "stream",
          "name": "stdout",
          "text": [
            "================================\u001b[1m Human Message \u001b[0m=================================\n",
            "\n",
            "Search for the weather in Singapore\n",
            "==================================\u001b[1m Ai Message \u001b[0m==================================\n",
            "Tool Calls:\n",
            "  tavily_search (call_7aYtUWiex0IfJl6F6mgYBkls)\n",
            " Call ID: call_7aYtUWiex0IfJl6F6mgYBkls\n",
            "  Args:\n",
            "    query: current weather in Singapore\n",
            "=================================\u001b[1m Tool Message \u001b[0m=================================\n",
            "Name: tavily_search\n",
            "\n",
            "{\"query\": \"current weather in Singapore\", \"follow_up_questions\": null, \"answer\": null, \"images\": [], \"results\": [{\"title\": \"Weather in Singapore\", \"url\": \"https://www.weatherapi.com/\", \"content\": \"{'location': {'name': 'Singapore', 'region': '', 'country': 'Singapore', 'lat': 1.293, 'lon': 103.856, 'tz_id': 'Asia/Singapore', 'localtime_epoch': 1757301220, 'localtime': '2025-09-08 11:13'}, 'current': {'last_updated_epoch': 1757300400, 'last_updated': '2025-09-08 11:00', 'temp_c': 29.1, 'temp_f': 84.4, 'is_day': 1, 'condition': {'text': 'Partly cloudy', 'icon': '//cdn.weatherapi.com/weather/64x64/day/116.png', 'code': 1003}, 'wind_mph': 10.7, 'wind_kph': 17.3, 'wind_degree': 219, 'wind_dir': 'SW', 'pressure_mb': 1010.0, 'pressure_in': 29.83, 'precip_mm': 0.14, 'precip_in': 0.01, 'humidity': 84, 'cloud': 50, 'feelslike_c': 35.0, 'feelslike_f': 95.0, 'windchill_c': 26.1, 'windchill_f': 78.9, 'heatindex_c': 28.7, 'heatindex_f': 83.7, 'dewpoint_c': 22.5, 'dewpoint_f': 72.4, 'vis_km': 10.0, 'vis_miles': 6.0, 'uv': 1.1, 'gust_mph': 14.9, 'gust_kph': 24.0}}\", \"score\": 0.9952777, \"raw_content\": null}, {\"url\": \"https://world-weather.info/forecast/singapore/singapore/09-august/\", \"title\": \"Weather in Singapore, August 9\", \"content\": \"Detailed ⚡ Weather Forecast for August 9 in Singapore, , Singapore - 🌡️ temperature ... August 09, 2025. Night. +82°. 5.4. 29.9. 84%. Morning. +81°. 4.3. 29.9. 90\", \"score\": 0.8995547, \"raw_content\": null}], \"response_time\": 2.44, \"request_id\": \"21f956ff-d347-409b-82b6-e1e9d1762cf5\"}\n",
            "==================================\u001b[1m Ai Message \u001b[0m==================================\n",
            "\n",
            "The current weather in Singapore is as follows:\n",
            "\n",
            "- **Temperature**: 29.1°C (84.4°F)\n",
            "- **Condition**: Partly cloudy\n",
            "- **Humidity**: 84%\n",
            "- **Wind**: 10.7 mph (17.3 kph) from the southwest\n",
            "- **Visibility**: 10 km\n",
            "\n",
            "For more detailed information, you can visit [Weather API](https://www.weatherapi.com/).\n",
            "\n",
            "If you'd like to learn more about the forecast, you can check out [World Weather](https://world-weather.info/forecast/singapore/singapore/09-august/).\n"
          ]
        }
      ],
      "source": [
        "for step in agent_executor.stream({\"messages\": [input_message]}, stream_mode=\"values\"):\n",
        "    step[\"messages\"][-1].pretty_print()"
      ]
    },
    {
      "cell_type": "markdown",
      "id": "c72b3043",
      "metadata": {
        "id": "c72b3043"
      },
      "source": [
        "## Streaming tokens\n",
        "\n",
        "In addition to streaming back messages, it is also useful to stream back tokens.\n",
        "We can do this by specifying `stream_mode=\"messages\"`.\n",
        "\n",
        "\n",
        "::: note\n",
        "\n",
        "Below we use `message.text()`, which requires `langchain-core>=0.3.37`.\n",
        "\n",
        ":::"
      ]
    },
    {
      "cell_type": "code",
      "execution_count": 19,
      "id": "63198158-380e-43a3-a2ad-d4288949c1d4",
      "metadata": {
        "id": "63198158-380e-43a3-a2ad-d4288949c1d4",
        "outputId": "7990232b-2502-47c8-d14a-4f4bffdd4fd2",
        "colab": {
          "base_uri": "https://localhost:8080/"
        }
      },
      "outputs": [
        {
          "output_type": "stream",
          "name": "stdout",
          "text": [
            "The| current| weather| in| Singapore| is| as| follows|:\n",
            "\n",
            "|-| **|Temperature|:**| |29|.|1|°C| (|84|.|4|°F|)\n",
            "|-| **|Condition|:**| Part|ly| cloudy|\n",
            "|-| **|Wind|:**| |10|.|7| mph| (|17|.|3| k|ph|)| coming| from| the| southwest|\n",
            "|-| **|Humidity|:**| |84|%\n",
            "|-| **|Pressure|:**| |101|0| mb|\n",
            "|-| **|Visibility|:**| |10| km|\n",
            "|-| **|Feels| Like|:**| |35|.|0|°C| (|95|.|0|°F|)\n",
            "\n",
            "|For| more| detailed| weather| forecasts|,| you| can| check| [|Weather| API|](|https|://|www|.weather|api|.com|/)| or| [|World| Weather| Info|](|https|://|world|-weather|.info|/|forecast|/s|ing|apore|/s|ing|apore|/|09|-|aug|ust|/|).|"
          ]
        }
      ],
      "source": [
        "for step, metadata in agent_executor.stream(\n",
        "    {\"messages\": [input_message]}, stream_mode=\"messages\"\n",
        "):\n",
        "    if metadata[\"langgraph_node\"] == \"agent\" and (text := step.text()):\n",
        "        print(text, end=\"|\")"
      ]
    },
    {
      "cell_type": "markdown",
      "id": "022cbc8a",
      "metadata": {
        "id": "022cbc8a"
      },
      "source": [
        "## Adding in memory\n",
        "\n",
        "As mentioned earlier, this agent is stateless. This means it does not remember previous interactions. To give it memory we need to pass in a checkpointer. When passing in a checkpointer, we also have to pass in a `thread_id` when invoking the agent (so it knows which thread/conversation to resume from)."
      ]
    },
    {
      "cell_type": "code",
      "execution_count": 20,
      "id": "c4073e35",
      "metadata": {
        "id": "c4073e35"
      },
      "outputs": [],
      "source": [
        "from langgraph.checkpoint.memory import MemorySaver\n",
        "\n",
        "memory = MemorySaver()"
      ]
    },
    {
      "cell_type": "code",
      "execution_count": 21,
      "id": "e64a944e-f9ac-43cf-903c-d3d28d765377",
      "metadata": {
        "id": "e64a944e-f9ac-43cf-903c-d3d28d765377"
      },
      "outputs": [],
      "source": [
        "agent_executor = create_react_agent(model, tools, checkpointer=memory)\n",
        "\n",
        "config = {\"configurable\": {\"thread_id\": \"abc123\"}}"
      ]
    },
    {
      "cell_type": "code",
      "execution_count": 22,
      "id": "a13462d0-2d02-4474-921e-15a1ba1fa274",
      "metadata": {
        "id": "a13462d0-2d02-4474-921e-15a1ba1fa274",
        "outputId": "d9ab4f94-84f2-4a26-b6bc-394b6f6e1bf8",
        "colab": {
          "base_uri": "https://localhost:8080/"
        }
      },
      "outputs": [
        {
          "output_type": "stream",
          "name": "stdout",
          "text": [
            "================================\u001b[1m Human Message \u001b[0m=================================\n",
            "\n",
            "Hi, I'm Bob!\n",
            "==================================\u001b[1m Ai Message \u001b[0m==================================\n",
            "\n",
            "Hello Bob! How can I assist you today?\n"
          ]
        }
      ],
      "source": [
        "input_message = {\"role\": \"user\", \"content\": \"Hi, I'm Bob!\"}\n",
        "for step in agent_executor.stream(\n",
        "    {\"messages\": [input_message]}, config, stream_mode=\"values\"\n",
        "):\n",
        "    step[\"messages\"][-1].pretty_print()"
      ]
    },
    {
      "cell_type": "code",
      "execution_count": 23,
      "id": "56d8028b-5dbc-40b2-86f5-ed60631d86a3",
      "metadata": {
        "id": "56d8028b-5dbc-40b2-86f5-ed60631d86a3",
        "outputId": "90929511-dc02-41bf-9136-113c228bda3a",
        "colab": {
          "base_uri": "https://localhost:8080/"
        }
      },
      "outputs": [
        {
          "output_type": "stream",
          "name": "stdout",
          "text": [
            "================================\u001b[1m Human Message \u001b[0m=================================\n",
            "\n",
            "What's my name?\n",
            "==================================\u001b[1m Ai Message \u001b[0m==================================\n",
            "\n",
            "Your name is Bob! How can I help you today, Bob?\n"
          ]
        }
      ],
      "source": [
        "input_message = {\"role\": \"user\", \"content\": \"What's my name?\"}\n",
        "for step in agent_executor.stream(\n",
        "    {\"messages\": [input_message]}, config, stream_mode=\"values\"\n",
        "):\n",
        "    step[\"messages\"][-1].pretty_print()"
      ]
    },
    {
      "cell_type": "markdown",
      "id": "bda99754-0a11-4447-b408-e8db8f2e3517",
      "metadata": {
        "id": "bda99754-0a11-4447-b408-e8db8f2e3517"
      },
      "source": [
        "Example [LangSmith trace](https://smith.langchain.com/public/fa73960b-0f7d-4910-b73d-757a12f33b2b/r)"
      ]
    },
    {
      "cell_type": "markdown",
      "id": "ae908088",
      "metadata": {
        "id": "ae908088"
      },
      "source": [
        "If you want to start a new conversation, all you have to do is change the `thread_id` used"
      ]
    },
    {
      "cell_type": "code",
      "execution_count": 24,
      "id": "24460239",
      "metadata": {
        "id": "24460239",
        "outputId": "fc76d5e8-8b2c-4edf-802a-a830acb1ba64",
        "colab": {
          "base_uri": "https://localhost:8080/"
        }
      },
      "outputs": [
        {
          "output_type": "stream",
          "name": "stdout",
          "text": [
            "================================\u001b[1m Human Message \u001b[0m=================================\n",
            "\n",
            "What's my name?\n",
            "==================================\u001b[1m Ai Message \u001b[0m==================================\n",
            "\n",
            "I don't have access to your personal information, so I can't know your name. If you'd like to share your name, feel free!\n"
          ]
        }
      ],
      "source": [
        "# highlight-next-line\n",
        "config = {\"configurable\": {\"thread_id\": \"xyz123\"}}\n",
        "\n",
        "input_message = {\"role\": \"user\", \"content\": \"What's my name?\"}\n",
        "for step in agent_executor.stream(\n",
        "    {\"messages\": [input_message]}, config, stream_mode=\"values\"\n",
        "):\n",
        "    step[\"messages\"][-1].pretty_print()"
      ]
    },
    {
      "cell_type": "markdown",
      "id": "c029798f",
      "metadata": {
        "id": "c029798f"
      },
      "source": [
        "## Conclusion\n",
        "\n",
        "That's a wrap! In this quick start we covered how to create a simple agent.\n",
        "We've then shown how to stream back a response - not only with the intermediate steps, but also tokens!\n",
        "We've also added in memory so you can have a conversation with them.\n",
        "Agents are a complex topic with lots to learn!\n",
        "\n",
        "For more information on Agents, please check out the [LangGraph](/docs/concepts/architecture/#langgraph) documentation. This has it's own set of concepts, tutorials, and how-to guides."
      ]
    },
    {
      "cell_type": "code",
      "execution_count": null,
      "id": "e3ec3244",
      "metadata": {
        "id": "e3ec3244"
      },
      "outputs": [],
      "source": []
    }
  ],
  "metadata": {
    "kernelspec": {
      "display_name": "Python 3 (ipykernel)",
      "language": "python",
      "name": "python3"
    },
    "language_info": {
      "codemirror_mode": {
        "name": "ipython",
        "version": 3
      },
      "file_extension": ".py",
      "mimetype": "text/x-python",
      "name": "python",
      "nbconvert_exporter": "python",
      "pygments_lexer": "ipython3",
      "version": "3.10.4"
    },
    "colab": {
      "provenance": [],
      "include_colab_link": true
    }
  },
  "nbformat": 4,
  "nbformat_minor": 5
}